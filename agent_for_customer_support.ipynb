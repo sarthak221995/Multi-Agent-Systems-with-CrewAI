{
 "cells": [
  {
   "cell_type": "markdown",
   "metadata": {},
   "source": [
    "# Multi-agent system for customer support"
   ]
  },
  {
   "cell_type": "code",
   "execution_count": 10,
   "metadata": {},
   "outputs": [],
   "source": [
    "# Warning control\n",
    "import warnings\n",
    "warnings.filterwarnings('ignore')\n"
   ]
  },
  {
   "cell_type": "code",
   "execution_count": 2,
   "metadata": {},
   "outputs": [],
   "source": [
    "from crewai import Agent, Task, Crew\n",
    "from dotenv import load_dotenv\n",
    "from crewai_tools import SerperDevTool, ScrapeWebsiteTool, WebsiteSearchTool\n",
    "from utils import get_openai_api_key\n",
    "import os\n"
   ]
  },
  {
   "cell_type": "code",
   "execution_count": 48,
   "metadata": {},
   "outputs": [],
   "source": [
    "load_dotenv()\n",
    "\n",
    "openai_api_key = get_openai_api_key()\n",
    "os.environ['OPENAI_MODEL_NAME'] = 'gpt-3.5-turbo-0125'\n"
   ]
  },
  {
   "cell_type": "code",
   "execution_count": null,
   "metadata": {},
   "outputs": [],
   "source": []
  },
  {
   "cell_type": "code",
   "execution_count": 49,
   "metadata": {},
   "outputs": [],
   "source": [
    "load_dotenv()\n",
    "openai_api_key = get_openai_api_key()\n"
   ]
  },
  {
   "cell_type": "code",
   "execution_count": null,
   "metadata": {},
   "outputs": [],
   "source": [
    "support_quality_assurance_agent = Agent(\n",
    "\trole=\"Support Quality Assurance Specialist\",\n",
    "\tgoal=\"Get recognition for providing the \"\n",
    "    \"best support quality assurance in your team\",\n",
    "\tbackstory=(\n",
    "\t\t\"You work at crewAI (https://crewai.com) and \"\n",
    "        \"are now working with your team \"\n",
    "\t\t\"on a request from {customer} ensuring that \"\n",
    "        \"the support representative is \"\n",
    "\t\t\"providing the best support possible.\\n\"\n",
    "\t\t\"You need to make sure that the support representative \"\n",
    "        \"is providing full\"\n",
    "\t\t\"complete answers, and make no assumptions.\"\n",
    "\t),\n",
    "\tverbose=True\n",
    ")\n"
   ]
  },
  {
   "cell_type": "code",
   "execution_count": 42,
   "metadata": {},
   "outputs": [],
   "source": [
    "search_tool = SerperDevTool()\n",
    "scrape_tool = ScrapeWebsiteTool()\n"
   ]
  },
  {
   "cell_type": "code",
   "execution_count": 43,
   "metadata": {},
   "outputs": [],
   "source": [
    "docs_scrape_tool = ScrapeWebsiteTool(\n",
    "    website_url=\"https://docs.crewai.com/how-to/Creating-a-Crew-and-kick-it-off/\"\n",
    ")\n"
   ]
  },
  {
   "cell_type": "code",
   "execution_count": 44,
   "metadata": {},
   "outputs": [],
   "source": [
    "inquiry_resolution = Task(\n",
    "    description=(\n",
    "        \"{customer} just reached out with a super important ask:\\n\"\n",
    "\t    \"{inquiry}\\n\\n\"\n",
    "        \"{person} from {customer} is the one that reached out. \"\n",
    "\t\t\"Make sure to use everything you know \"\n",
    "        \"to provide the best support possible.\"\n",
    "\t\t\"You must strive to provide a complete \"\n",
    "        \"and accurate response to the customer's inquiry.\"\n",
    "    ),\n",
    "    expected_output=(\n",
    "\t    \"A detailed, informative response to the \"\n",
    "        \"customer's inquiry that addresses \"\n",
    "        \"all aspects of their question.\\n\"\n",
    "        \"The response should include references \"\n",
    "        \"to everything you used to find the answer, \"\n",
    "        \"including external data or solutions. \"\n",
    "        \"Ensure the answer is complete, \"\n",
    "\t\t\"leaving no questions unanswered, and maintain a helpful and friendly \"\n",
    "\t\t\"tone throughout.\"\n",
    "    ),\n",
    "\ttools=[docs_scrape_tool],\n",
    "    agent=support_agent,\n",
    ")\n"
   ]
  },
  {
   "cell_type": "code",
   "execution_count": 45,
   "metadata": {},
   "outputs": [],
   "source": [
    "quality_assurance_review = Task(\n",
    "    description=(\n",
    "        \"Review the response drafted by the Senior Support Representative for {customer}'s inquiry. \"\n",
    "        \"Ensure that the answer is comprehensive, accurate, and adheres to the \"\n",
    "\t\t\"high-quality standards expected for customer support.\\n\"\n",
    "        \"Verify that all parts of the customer's inquiry \"\n",
    "        \"have been addressed \"\n",
    "\t\t\"thoroughly, with a helpful and friendly tone.\\n\"\n",
    "        \"Check for references and sources used to \"\n",
    "        \" find the information, \"\n",
    "\t\t\"ensuring the response is well-supported and \"\n",
    "        \"leaves no questions unanswered.\"\n",
    "    ),\n",
    "    expected_output=(\n",
    "        \"A final, detailed, and informative response \"\n",
    "        \"ready to be sent to the customer.\\n\"\n",
    "        \"This response should fully address the \"\n",
    "        \"customer's inquiry, incorporating all \"\n",
    "\t\t\"relevant feedback and improvements.\\n\"\n",
    "\t\t\"Don't be too formal, we are a chill and cool company \"\n",
    "\t    \"but maintain a professional and friendly tone throughout.\"\n",
    "    ),\n",
    "    agent=support_quality_assurance_agent,\n",
    ")\n"
   ]
  },
  {
   "cell_type": "code",
   "execution_count": null,
   "metadata": {},
   "outputs": [],
   "source": [
    "crew = Crew(\n",
    "  agents=[support_agent, support_quality_assurance_agent],\n",
    "  tasks=[inquiry_resolution, quality_assurance_review],\n",
    "  verbose=True,\n",
    "  memory=True\n",
    ")\n"
   ]
  },
  {
   "cell_type": "code",
   "execution_count": 47,
   "metadata": {},
   "outputs": [
    {
     "data": {
      "text/html": [
       "<pre style=\"white-space:pre;overflow-x:auto;line-height:normal;font-family:Menlo,'DejaVu Sans Mono',consolas,'Courier New',monospace\"><span style=\"color: #008080; text-decoration-color: #008080\">╭──────────────────────────────────────────── Crew Execution Started ─────────────────────────────────────────────╮</span>\n",
       "<span style=\"color: #008080; text-decoration-color: #008080\">│</span>                                                                                                                 <span style=\"color: #008080; text-decoration-color: #008080\">│</span>\n",
       "<span style=\"color: #008080; text-decoration-color: #008080\">│</span>  <span style=\"color: #008080; text-decoration-color: #008080; font-weight: bold\">Crew Execution Started</span>                                                                                         <span style=\"color: #008080; text-decoration-color: #008080\">│</span>\n",
       "<span style=\"color: #008080; text-decoration-color: #008080\">│</span>  <span style=\"color: #c0c0c0; text-decoration-color: #c0c0c0\">Name: </span><span style=\"color: #008080; text-decoration-color: #008080\">crew</span>                                                                                                     <span style=\"color: #008080; text-decoration-color: #008080\">│</span>\n",
       "<span style=\"color: #008080; text-decoration-color: #008080\">│</span>  <span style=\"color: #c0c0c0; text-decoration-color: #c0c0c0\">ID: </span><span style=\"color: #008080; text-decoration-color: #008080\">2cd545f0-ff0e-4552-982f-5b972c5c6af0</span>                                                                       <span style=\"color: #008080; text-decoration-color: #008080\">│</span>\n",
       "<span style=\"color: #008080; text-decoration-color: #008080\">│</span>                                                                                                                 <span style=\"color: #008080; text-decoration-color: #008080\">│</span>\n",
       "<span style=\"color: #008080; text-decoration-color: #008080\">│</span>                                                                                                                 <span style=\"color: #008080; text-decoration-color: #008080\">│</span>\n",
       "<span style=\"color: #008080; text-decoration-color: #008080\">╰─────────────────────────────────────────────────────────────────────────────────────────────────────────────────╯</span>\n",
       "</pre>\n"
      ],
      "text/plain": [
       "\u001b[36m╭─\u001b[0m\u001b[36m───────────────────────────────────────────\u001b[0m\u001b[36m Crew Execution Started \u001b[0m\u001b[36m────────────────────────────────────────────\u001b[0m\u001b[36m─╮\u001b[0m\n",
       "\u001b[36m│\u001b[0m                                                                                                                 \u001b[36m│\u001b[0m\n",
       "\u001b[36m│\u001b[0m  \u001b[1;36mCrew Execution Started\u001b[0m                                                                                         \u001b[36m│\u001b[0m\n",
       "\u001b[36m│\u001b[0m  \u001b[37mName: \u001b[0m\u001b[36mcrew\u001b[0m                                                                                                     \u001b[36m│\u001b[0m\n",
       "\u001b[36m│\u001b[0m  \u001b[37mID: \u001b[0m\u001b[36m2cd545f0-ff0e-4552-982f-5b972c5c6af0\u001b[0m                                                                       \u001b[36m│\u001b[0m\n",
       "\u001b[36m│\u001b[0m                                                                                                                 \u001b[36m│\u001b[0m\n",
       "\u001b[36m│\u001b[0m                                                                                                                 \u001b[36m│\u001b[0m\n",
       "\u001b[36m╰─────────────────────────────────────────────────────────────────────────────────────────────────────────────────╯\u001b[0m\n"
      ]
     },
     "metadata": {},
     "output_type": "display_data"
    },
    {
     "data": {
      "text/html": [
       "<pre style=\"white-space:pre;overflow-x:auto;line-height:normal;font-family:Menlo,'DejaVu Sans Mono',consolas,'Courier New',monospace\">\n",
       "</pre>\n"
      ],
      "text/plain": [
       "\n"
      ]
     },
     "metadata": {},
     "output_type": "display_data"
    },
    {
     "data": {
      "text/html": [
       "<pre style=\"white-space:pre;overflow-x:auto;line-height:normal;font-family:Menlo,'DejaVu Sans Mono',consolas,'Courier New',monospace\"><span style=\"color: #008080; text-decoration-color: #008080; font-weight: bold\">🚀 Crew: crew</span>\n",
       "└── <span style=\"color: #808000; text-decoration-color: #808000; font-weight: bold\">📋 Task: ca8dc202-44bc-4ae3-a7fc-b48d6fcea5fc</span>\n",
       "    <span style=\"color: #c0c0c0; text-decoration-color: #c0c0c0\">   Status: </span><span style=\"color: #bfbf7f; text-decoration-color: #bfbf7f\">Executing Task...</span>\n",
       "</pre>\n"
      ],
      "text/plain": [
       "\u001b[1;36m🚀 Crew: \u001b[0m\u001b[1;36mcrew\u001b[0m\n",
       "└── \u001b[1;33m📋 Task: ca8dc202-44bc-4ae3-a7fc-b48d6fcea5fc\u001b[0m\n",
       "    \u001b[37m   Status: \u001b[0m\u001b[2;33mExecuting Task...\u001b[0m\n"
      ]
     },
     "metadata": {},
     "output_type": "display_data"
    },
    {
     "data": {
      "text/html": [
       "<pre style=\"white-space:pre;overflow-x:auto;line-height:normal;font-family:Menlo,'DejaVu Sans Mono',consolas,'Courier New',monospace\">\n",
       "</pre>\n"
      ],
      "text/plain": [
       "\n"
      ]
     },
     "metadata": {},
     "output_type": "display_data"
    },
    {
     "data": {
      "text/html": [
       "<pre style=\"white-space:pre;overflow-x:auto;line-height:normal;font-family:Menlo,'DejaVu Sans Mono',consolas,'Courier New',monospace\"><span style=\"color: #008080; text-decoration-color: #008080; font-weight: bold\">🚀 Crew: crew</span>\n",
       "└── <span style=\"color: #808000; text-decoration-color: #808000; font-weight: bold\">📋 Task: ca8dc202-44bc-4ae3-a7fc-b48d6fcea5fc</span>\n",
       "    <span style=\"color: #c0c0c0; text-decoration-color: #c0c0c0\">   Status: </span><span style=\"color: #bfbf7f; text-decoration-color: #bfbf7f\">Executing Task...</span>\n",
       "    └── <span style=\"color: #008000; text-decoration-color: #008000; font-weight: bold\">🤖 Agent: </span><span style=\"color: #008000; text-decoration-color: #008000\">Senior Support Representative</span>\n",
       "        <span style=\"color: #c0c0c0; text-decoration-color: #c0c0c0\">    Status: </span><span style=\"color: #008000; text-decoration-color: #008000; font-weight: bold\">In Progress</span>\n",
       "</pre>\n"
      ],
      "text/plain": [
       "\u001b[1;36m🚀 Crew: \u001b[0m\u001b[1;36mcrew\u001b[0m\n",
       "└── \u001b[1;33m📋 Task: ca8dc202-44bc-4ae3-a7fc-b48d6fcea5fc\u001b[0m\n",
       "    \u001b[37m   Status: \u001b[0m\u001b[2;33mExecuting Task...\u001b[0m\n",
       "    └── \u001b[1;32m🤖 Agent: \u001b[0m\u001b[32mSenior Support Representative\u001b[0m\n",
       "        \u001b[37m    Status: \u001b[0m\u001b[1;32mIn Progress\u001b[0m\n"
      ]
     },
     "metadata": {},
     "output_type": "display_data"
    },
    {
     "data": {
      "text/html": [
       "<pre style=\"white-space:pre;overflow-x:auto;line-height:normal;font-family:Menlo,'DejaVu Sans Mono',consolas,'Courier New',monospace\">\n",
       "</pre>\n"
      ],
      "text/plain": [
       "\n"
      ]
     },
     "metadata": {},
     "output_type": "display_data"
    },
    {
     "name": "stdout",
     "output_type": "stream",
     "text": [
      "\u001b[1m\u001b[95m# Agent:\u001b[00m \u001b[1m\u001b[92mSenior Support Representative\u001b[00m\n",
      "\u001b[95m## Task:\u001b[00m \u001b[92mDeepLearningAI just reached out with a super important ask:\n",
      "I need help with setting up a Crew and kicking it off, specifically how can i setup gemini 2.0 flash free LLM api? Can you provide guidance?\n",
      "\n",
      "Sarthak from DeepLearningAI is the one that reached out. Make sure to use everything you know to provide the best support possible.You must strive to provide a complete and accurate response to the customer's inquiry.\u001b[00m\n"
     ]
    },
    {
     "data": {
      "text/html": [
       "<pre style=\"white-space:pre;overflow-x:auto;line-height:normal;font-family:Menlo,'DejaVu Sans Mono',consolas,'Courier New',monospace\"><span style=\"color: #008080; text-decoration-color: #008080; font-weight: bold\">🚀 Crew: crew</span>\n",
       "└── <span style=\"color: #808000; text-decoration-color: #808000; font-weight: bold\">📋 Task: ca8dc202-44bc-4ae3-a7fc-b48d6fcea5fc</span>\n",
       "    <span style=\"color: #c0c0c0; text-decoration-color: #c0c0c0\">   Status: </span><span style=\"color: #bfbf7f; text-decoration-color: #bfbf7f\">Executing Task...</span>\n",
       "    └── <span style=\"color: #008000; text-decoration-color: #008000; font-weight: bold\">🤖 Agent: </span><span style=\"color: #008000; text-decoration-color: #008000\">Senior Support Representative</span>\n",
       "        <span style=\"color: #c0c0c0; text-decoration-color: #c0c0c0\">    Status: </span><span style=\"color: #008000; text-decoration-color: #008000; font-weight: bold\">In Progress</span>\n",
       "        └── <span style=\"color: #000080; text-decoration-color: #000080; font-weight: bold\">🧠 </span><span style=\"color: #000080; text-decoration-color: #000080\">Thinking...</span>\n",
       "</pre>\n"
      ],
      "text/plain": [
       "\u001b[1;36m🚀 Crew: \u001b[0m\u001b[1;36mcrew\u001b[0m\n",
       "└── \u001b[1;33m📋 Task: ca8dc202-44bc-4ae3-a7fc-b48d6fcea5fc\u001b[0m\n",
       "    \u001b[37m   Status: \u001b[0m\u001b[2;33mExecuting Task...\u001b[0m\n",
       "    └── \u001b[1;32m🤖 Agent: \u001b[0m\u001b[32mSenior Support Representative\u001b[0m\n",
       "        \u001b[37m    Status: \u001b[0m\u001b[1;32mIn Progress\u001b[0m\n",
       "        └── \u001b[1;34m🧠 \u001b[0m\u001b[34mThinking...\u001b[0m\n"
      ]
     },
     "metadata": {},
     "output_type": "display_data"
    },
    {
     "data": {
      "text/html": [
       "<pre style=\"white-space:pre;overflow-x:auto;line-height:normal;font-family:Menlo,'DejaVu Sans Mono',consolas,'Courier New',monospace\">\n",
       "</pre>\n"
      ],
      "text/plain": [
       "\n"
      ]
     },
     "metadata": {},
     "output_type": "display_data"
    },
    {
     "data": {
      "text/html": [
       "<pre style=\"white-space:pre;overflow-x:auto;line-height:normal;font-family:Menlo,'DejaVu Sans Mono',consolas,'Courier New',monospace\"><span style=\"color: #008080; text-decoration-color: #008080; font-weight: bold\">🚀 Crew: crew</span>\n",
       "└── <span style=\"color: #808000; text-decoration-color: #808000; font-weight: bold\">📋 Task: ca8dc202-44bc-4ae3-a7fc-b48d6fcea5fc</span>\n",
       "    <span style=\"color: #c0c0c0; text-decoration-color: #c0c0c0\">   Status: </span><span style=\"color: #bfbf7f; text-decoration-color: #bfbf7f\">Executing Task...</span>\n",
       "    └── <span style=\"color: #008000; text-decoration-color: #008000; font-weight: bold\">🤖 Agent: </span><span style=\"color: #008000; text-decoration-color: #008000\">Senior Support Representative</span>\n",
       "        <span style=\"color: #c0c0c0; text-decoration-color: #c0c0c0\">    Status: </span><span style=\"color: #008000; text-decoration-color: #008000; font-weight: bold\">In Progress</span>\n",
       "</pre>\n"
      ],
      "text/plain": [
       "\u001b[1;36m🚀 Crew: \u001b[0m\u001b[1;36mcrew\u001b[0m\n",
       "└── \u001b[1;33m📋 Task: ca8dc202-44bc-4ae3-a7fc-b48d6fcea5fc\u001b[0m\n",
       "    \u001b[37m   Status: \u001b[0m\u001b[2;33mExecuting Task...\u001b[0m\n",
       "    └── \u001b[1;32m🤖 Agent: \u001b[0m\u001b[32mSenior Support Representative\u001b[0m\n",
       "        \u001b[37m    Status: \u001b[0m\u001b[1;32mIn Progress\u001b[0m\n"
      ]
     },
     "metadata": {},
     "output_type": "display_data"
    },
    {
     "data": {
      "text/html": [
       "<pre style=\"white-space:pre;overflow-x:auto;line-height:normal;font-family:Menlo,'DejaVu Sans Mono',consolas,'Courier New',monospace\">\n",
       "</pre>\n"
      ],
      "text/plain": [
       "\n"
      ]
     },
     "metadata": {},
     "output_type": "display_data"
    },
    {
     "data": {
      "text/html": [
       "<pre style=\"white-space:pre;overflow-x:auto;line-height:normal;font-family:Menlo,'DejaVu Sans Mono',consolas,'Courier New',monospace\"><span style=\"color: #008080; text-decoration-color: #008080; font-weight: bold\">🚀 Crew: crew</span>\n",
       "└── <span style=\"color: #808000; text-decoration-color: #808000; font-weight: bold\">📋 Task: ca8dc202-44bc-4ae3-a7fc-b48d6fcea5fc</span>\n",
       "    <span style=\"color: #c0c0c0; text-decoration-color: #c0c0c0\">   Status: </span><span style=\"color: #bfbf7f; text-decoration-color: #bfbf7f\">Executing Task...</span>\n",
       "    └── <span style=\"color: #008000; text-decoration-color: #008000; font-weight: bold\">🤖 Agent: </span><span style=\"color: #008000; text-decoration-color: #008000\">Senior Support Representative</span>\n",
       "        <span style=\"color: #c0c0c0; text-decoration-color: #c0c0c0\">    Status: </span><span style=\"color: #008000; text-decoration-color: #008000; font-weight: bold\">In Progress</span>\n",
       "        └── <span style=\"color: #808000; text-decoration-color: #808000; font-weight: bold\">🔧 </span><span style=\"color: #808000; text-decoration-color: #808000\">Using Read website content (1)</span>\n",
       "</pre>\n"
      ],
      "text/plain": [
       "\u001b[1;36m🚀 Crew: \u001b[0m\u001b[1;36mcrew\u001b[0m\n",
       "└── \u001b[1;33m📋 Task: ca8dc202-44bc-4ae3-a7fc-b48d6fcea5fc\u001b[0m\n",
       "    \u001b[37m   Status: \u001b[0m\u001b[2;33mExecuting Task...\u001b[0m\n",
       "    └── \u001b[1;32m🤖 Agent: \u001b[0m\u001b[32mSenior Support Representative\u001b[0m\n",
       "        \u001b[37m    Status: \u001b[0m\u001b[1;32mIn Progress\u001b[0m\n",
       "        └── \u001b[1;33m🔧 \u001b[0m\u001b[33mUsing Read website content (1)\u001b[0m\n"
      ]
     },
     "metadata": {},
     "output_type": "display_data"
    },
    {
     "data": {
      "text/html": [
       "<pre style=\"white-space:pre;overflow-x:auto;line-height:normal;font-family:Menlo,'DejaVu Sans Mono',consolas,'Courier New',monospace\">\n",
       "</pre>\n"
      ],
      "text/plain": [
       "\n"
      ]
     },
     "metadata": {},
     "output_type": "display_data"
    },
    {
     "data": {
      "text/html": [
       "<pre style=\"white-space:pre;overflow-x:auto;line-height:normal;font-family:Menlo,'DejaVu Sans Mono',consolas,'Courier New',monospace\"><span style=\"color: #008080; text-decoration-color: #008080; font-weight: bold\">🚀 Crew: crew</span>\n",
       "└── <span style=\"color: #808000; text-decoration-color: #808000; font-weight: bold\">📋 Task: ca8dc202-44bc-4ae3-a7fc-b48d6fcea5fc</span>\n",
       "    <span style=\"color: #c0c0c0; text-decoration-color: #c0c0c0\">   Status: </span><span style=\"color: #bfbf7f; text-decoration-color: #bfbf7f\">Executing Task...</span>\n",
       "    └── <span style=\"color: #008000; text-decoration-color: #008000; font-weight: bold\">🤖 Agent: </span><span style=\"color: #008000; text-decoration-color: #008000\">Senior Support Representative</span>\n",
       "        <span style=\"color: #c0c0c0; text-decoration-color: #c0c0c0\">    Status: </span><span style=\"color: #008000; text-decoration-color: #008000; font-weight: bold\">In Progress</span>\n",
       "        └── <span style=\"color: #008000; text-decoration-color: #008000; font-weight: bold\">🔧 </span><span style=\"color: #008000; text-decoration-color: #008000\">Used Read website content (1)</span>\n",
       "</pre>\n"
      ],
      "text/plain": [
       "\u001b[1;36m🚀 Crew: \u001b[0m\u001b[1;36mcrew\u001b[0m\n",
       "└── \u001b[1;33m📋 Task: ca8dc202-44bc-4ae3-a7fc-b48d6fcea5fc\u001b[0m\n",
       "    \u001b[37m   Status: \u001b[0m\u001b[2;33mExecuting Task...\u001b[0m\n",
       "    └── \u001b[1;32m🤖 Agent: \u001b[0m\u001b[32mSenior Support Representative\u001b[0m\n",
       "        \u001b[37m    Status: \u001b[0m\u001b[1;32mIn Progress\u001b[0m\n",
       "        └── \u001b[1;32m🔧 \u001b[0m\u001b[32mUsed Read website content (1)\u001b[0m\n"
      ]
     },
     "metadata": {},
     "output_type": "display_data"
    },
    {
     "data": {
      "text/html": [
       "<pre style=\"white-space:pre;overflow-x:auto;line-height:normal;font-family:Menlo,'DejaVu Sans Mono',consolas,'Courier New',monospace\">\n",
       "</pre>\n"
      ],
      "text/plain": [
       "\n"
      ]
     },
     "metadata": {},
     "output_type": "display_data"
    },
    {
     "name": "stdout",
     "output_type": "stream",
     "text": [
      "\n",
      "\n",
      "\u001b[1m\u001b[95m# Agent:\u001b[00m \u001b[1m\u001b[92mSenior Support Representative\u001b[00m\n",
      "\u001b[95m## Thought:\u001b[00m \u001b[92mI need to gather information on setting up a Crew and kicking it off, specifically focusing on how to setup gemini 2.0 flash free LLM API. The best way to provide accurate guidance to Sarthak from DeepLearningAI is to refer to the relevant documentation on the crewAI website.\u001b[00m\n",
      "\u001b[95m## Using tool:\u001b[00m \u001b[92mRead website content\u001b[00m\n",
      "\u001b[95m## Tool Input:\u001b[00m \u001b[92m\n",
      "\"{}\"\u001b[00m\n",
      "\u001b[95m## Tool Output:\u001b[00m \u001b[92m\n",
      "Introduction - CrewAI CrewAI home page Search CrewAI docs crewAIInc / crewAI crewAIInc / crewAI Search... Navigation Get Started Introduction Get Started Examples Community Get Started Introduction Installation Quickstart Changelog Guides Concepts Agents Crews Flows Advanced Core Concepts Agents Tasks Crews Flows Knowledge LLMs Processes Collaboration Training Memory Planning Testing CLI Tools Event Listeners Using LangChain Tools Using LlamaIndex Tools How to Guides Create Custom Tools Sequential Processes Hierarchical Process Create Your Own Manager Agent Connect to any LLM Customize Agents Using Multimodal Agents Coding Agents Force Tool Output as Result Human Input on Execution Kickoff Crew Asynchronously Kickoff Crew for Each Replay Tasks from Latest Crew Kickoff Conditional Tasks Agent Monitoring & Observability Weave Integration AgentOps Integration Langfuse Integration Langtrace Integration MLflow Integration OpenLIT Integration Opik Integration Portkey Integration Tools AI Mind Tool Apify Actors Bedrock Invoke Agent Tool Bedrock Knowledge Base Retriever Brave Search Browserbase Web Loader Code Docs RAG Search Code Interpreter Composio Tool CSV RAG Search DALL-E Tool Directory RAG Search Directory Read DOCX RAG Search EXA Search Web Loader File Read File Write Firecrawl Crawl Website Firecrawl Scrape Website Firecrawl Search Github Search Hyperbrowser Load Tool Linkup Search Tool LlamaIndex Tool Google Serper Search S3 Reader Tool S3 Writer Tool Scrapegraph Scrape Tool Scrape Element From Website Tool JSON RAG Search MDX RAG Search MySQL RAG Search MultiOn Tool NL2SQL Tool Patronus Evaluation Tools PDF RAG Search PG RAG Search Qdrant Vector Search Tool RAG Tool Scrape Website Scrapfly Scrape Website Tool Selenium Scraper Snowflake Search Tool Spider Scraper TXT RAG Search Vision Tool Weaviate Vector Search Website RAG Search XML RAG Search YouTube Channel RAG Search YouTube Video RAG Search Telemetry Telemetry Get Started Introduction Build AI agent teams that work together to tackle complex tasks ​ What is CrewAI?\n",
      "CrewAI is a lean, lightning-fast Python framework built entirely from scratch—completely independent of LangChain or other agent frameworks.\n",
      "CrewAI empowers developers with both high-level simplicity and precise low-level control, ideal for creating autonomous AI agents tailored to any scenario:\n",
      "CrewAI Crews : Optimize for autonomy and collaborative intelligence, enabling you to create AI teams where each agent has specific roles, tools, and goals.\n",
      "CrewAI Flows : Enable granular, event-driven control, single LLM calls for precise task orchestration and supports Crews natively.\n",
      "With over 100,000 developers certified through our community courses, CrewAI is rapidly becoming the standard for enterprise-ready AI automation.\n",
      "​ How Crews Work\n",
      "Just like a company has departments (Sales, Engineering, Marketing) working together under leadership to achieve business goals, CrewAI helps you create an organization of AI agents with specialized roles collaborating to accomplish complex tasks.\n",
      "CrewAI Framework Overview\n",
      "Component Description Key Features Crew The top-level organization • Manages AI agent teams • Oversees workflows • Ensures collaboration • Delivers outcomes AI Agents Specialized team members • Have specific roles (researcher, writer) • Use designated tools • Can delegate tasks • Make autonomous decisions Process Workflow management system • Defines collaboration patterns • Controls task assignments • Manages interactions • Ensures efficient execution Tasks Individual assignments • Have clear objectives • Use specific tools • Feed into larger process • Produce actionable results\n",
      "​ How It All Works Together\n",
      "The Crew organizes the overall operation\n",
      "AI Agents work on their specialized tasks\n",
      "The Process ensures smooth collaboration\n",
      "Tasks get completed to achieve the goal\n",
      "​ Key Features\n",
      "Role-Based Agents Create specialized agents with defined roles, expertise, and goals - from researchers to analysts to writers Flexible Tools Equip agents with custom tools and APIs to interact with external services and data sources Intelligent Collaboration Agents work together, sharing insights and coordinating tasks to achieve complex objectives Task Management Define sequential or parallel workflows, with agents automatically handling task dependencies\n",
      "​ How Flows Work\n",
      "While Crews excel at autonomous collaboration, Flows provide structured automations, offering granular control over workflow execution. Flows ensure tasks are executed reliably, securely, and efficiently, handling conditional logic, loops, and dynamic state management with precision. Flows integrate seamlessly with Crews, enabling you to balance high autonomy with exacting control.\n",
      "CrewAI Framework Overview\n",
      "Component Description Key Features Flow Structured workflow orchestration • Manages execution paths • Handles state transitions • Controls task sequencing • Ensures reliable execution Events Triggers for workflow actions • Initiate specific processes • Enable dynamic responses • Support conditional branching • Allow for real-time adaptation States Workflow execution contexts • Maintain execution data • Enable persistence • Support resumability • Ensure execution integrity Crew Support Enhances workflow automation • Injects pockets of agency when needed • Complements structured workflows • Balances automation with intelligence • Enables adaptive decision-making\n",
      "​ Key Capabilities\n",
      "Event-Driven Orchestration Define precise execution paths responding dynamically to events Fine-Grained Control Manage workflow states and conditional execution securely and efficiently Native Crew Integration Effortlessly combine with Crews for enhanced autonomy and intelligence Deterministic Execution Ensure predictable outcomes with explicit control flow and error handling\n",
      "​ When to Use Crews vs. Flows\n",
      "Understanding when to use Crews versus Flows is key to maximizing the potential of CrewAI in your applications.\n",
      "Use Case Recommended Approach Why? Open-ended research Crews When tasks require creative thinking, exploration, and adaptation Content generation Crews For collaborative creation of articles, reports, or marketing materials Decision workflows Flows When you need predictable, auditable decision paths with precise control API orchestration Flows For reliable integration with multiple external services in a specific sequence Hybrid applications Combined approach Use Flows to orchestrate overall process with Crews handling complex subtasks\n",
      "​ Decision Framework\n",
      "Choose Crews when: You need autonomous problem-solving, creative collaboration, or exploratory tasks\n",
      "Choose Flows when: You require deterministic outcomes, auditability, or precise control over execution\n",
      "Combine both when: Your application needs both structured processes and pockets of autonomous intelligence\n",
      "​ Why Choose CrewAI?\n",
      "🧠 Autonomous Operation : Agents make intelligent decisions based on their roles and available tools\n",
      "📝 Natural Interaction : Agents communicate and collaborate like human team members\n",
      "🛠️ Extensible Design : Easy to add new tools, roles, and capabilities\n",
      "🚀 Production Ready : Built for reliability and scalability in real-world applications\n",
      "🔒 Security-Focused : Designed with enterprise security requirements in mind\n",
      "💰 Cost-Efficient : Optimized to minimize token usage and API calls\n",
      "​ Ready to Start Building?\n",
      "Build Your First Crew Step-by-step tutorial to create a collaborative AI team that works together to solve complex problems. Build Your First Flow Learn how to create structured, event-driven workflows with precise control over execution.\n",
      "Install CrewAI Get started with CrewAI in your development environment. Quick Start Follow our quickstart guide to create your first CrewAI agent and get hands-on experience. Join the Community Connect with other developers, get help, and share your CrewAI experiences. Was this page helpful? Yes No Installation website x github linkedin youtube reddit Powered by Mintlify On this page What is CrewAI? How Crews Work How It All Works Together Key Features How Flows Work Key Capabilities When to Use Crews vs. Flows Decision Framework Why Choose CrewAI? Ready to Start Building?\u001b[00m\n"
     ]
    },
    {
     "data": {
      "text/html": [
       "<pre style=\"white-space:pre;overflow-x:auto;line-height:normal;font-family:Menlo,'DejaVu Sans Mono',consolas,'Courier New',monospace\"><span style=\"color: #008080; text-decoration-color: #008080; font-weight: bold\">🚀 Crew: crew</span>\n",
       "└── <span style=\"color: #808000; text-decoration-color: #808000; font-weight: bold\">📋 Task: ca8dc202-44bc-4ae3-a7fc-b48d6fcea5fc</span>\n",
       "    <span style=\"color: #c0c0c0; text-decoration-color: #c0c0c0\">   Status: </span><span style=\"color: #bfbf7f; text-decoration-color: #bfbf7f\">Executing Task...</span>\n",
       "    └── <span style=\"color: #008000; text-decoration-color: #008000; font-weight: bold\">🤖 Agent: </span><span style=\"color: #008000; text-decoration-color: #008000\">Senior Support Representative</span>\n",
       "        <span style=\"color: #c0c0c0; text-decoration-color: #c0c0c0\">    Status: </span><span style=\"color: #008000; text-decoration-color: #008000; font-weight: bold\">In Progress</span>\n",
       "        ├── <span style=\"color: #008000; text-decoration-color: #008000; font-weight: bold\">🔧 </span><span style=\"color: #008000; text-decoration-color: #008000\">Used Read website content (1)</span>\n",
       "        └── <span style=\"color: #000080; text-decoration-color: #000080; font-weight: bold\">🧠 </span><span style=\"color: #000080; text-decoration-color: #000080\">Thinking...</span>\n",
       "</pre>\n"
      ],
      "text/plain": [
       "\u001b[1;36m🚀 Crew: \u001b[0m\u001b[1;36mcrew\u001b[0m\n",
       "└── \u001b[1;33m📋 Task: ca8dc202-44bc-4ae3-a7fc-b48d6fcea5fc\u001b[0m\n",
       "    \u001b[37m   Status: \u001b[0m\u001b[2;33mExecuting Task...\u001b[0m\n",
       "    └── \u001b[1;32m🤖 Agent: \u001b[0m\u001b[32mSenior Support Representative\u001b[0m\n",
       "        \u001b[37m    Status: \u001b[0m\u001b[1;32mIn Progress\u001b[0m\n",
       "        ├── \u001b[1;32m🔧 \u001b[0m\u001b[32mUsed Read website content (1)\u001b[0m\n",
       "        └── \u001b[1;34m🧠 \u001b[0m\u001b[34mThinking...\u001b[0m\n"
      ]
     },
     "metadata": {},
     "output_type": "display_data"
    },
    {
     "data": {
      "text/html": [
       "<pre style=\"white-space:pre;overflow-x:auto;line-height:normal;font-family:Menlo,'DejaVu Sans Mono',consolas,'Courier New',monospace\">\n",
       "</pre>\n"
      ],
      "text/plain": [
       "\n"
      ]
     },
     "metadata": {},
     "output_type": "display_data"
    },
    {
     "data": {
      "text/html": [
       "<pre style=\"white-space:pre;overflow-x:auto;line-height:normal;font-family:Menlo,'DejaVu Sans Mono',consolas,'Courier New',monospace\"><span style=\"color: #008080; text-decoration-color: #008080; font-weight: bold\">🚀 Crew: crew</span>\n",
       "└── <span style=\"color: #808000; text-decoration-color: #808000; font-weight: bold\">📋 Task: ca8dc202-44bc-4ae3-a7fc-b48d6fcea5fc</span>\n",
       "    <span style=\"color: #c0c0c0; text-decoration-color: #c0c0c0\">   Status: </span><span style=\"color: #bfbf7f; text-decoration-color: #bfbf7f\">Executing Task...</span>\n",
       "    └── <span style=\"color: #008000; text-decoration-color: #008000; font-weight: bold\">🤖 Agent: </span><span style=\"color: #008000; text-decoration-color: #008000\">Senior Support Representative</span>\n",
       "        <span style=\"color: #c0c0c0; text-decoration-color: #c0c0c0\">    Status: </span><span style=\"color: #008000; text-decoration-color: #008000; font-weight: bold\">In Progress</span>\n",
       "        └── <span style=\"color: #008000; text-decoration-color: #008000; font-weight: bold\">🔧 </span><span style=\"color: #008000; text-decoration-color: #008000\">Used Read website content (1)</span>\n",
       "</pre>\n"
      ],
      "text/plain": [
       "\u001b[1;36m🚀 Crew: \u001b[0m\u001b[1;36mcrew\u001b[0m\n",
       "└── \u001b[1;33m📋 Task: ca8dc202-44bc-4ae3-a7fc-b48d6fcea5fc\u001b[0m\n",
       "    \u001b[37m   Status: \u001b[0m\u001b[2;33mExecuting Task...\u001b[0m\n",
       "    └── \u001b[1;32m🤖 Agent: \u001b[0m\u001b[32mSenior Support Representative\u001b[0m\n",
       "        \u001b[37m    Status: \u001b[0m\u001b[1;32mIn Progress\u001b[0m\n",
       "        └── \u001b[1;32m🔧 \u001b[0m\u001b[32mUsed Read website content (1)\u001b[0m\n"
      ]
     },
     "metadata": {},
     "output_type": "display_data"
    },
    {
     "data": {
      "text/html": [
       "<pre style=\"white-space:pre;overflow-x:auto;line-height:normal;font-family:Menlo,'DejaVu Sans Mono',consolas,'Courier New',monospace\">\n",
       "</pre>\n"
      ],
      "text/plain": [
       "\n"
      ]
     },
     "metadata": {},
     "output_type": "display_data"
    },
    {
     "name": "stdout",
     "output_type": "stream",
     "text": [
      "\n",
      "\n",
      "\u001b[1m\u001b[95m# Agent:\u001b[00m \u001b[1m\u001b[92mSenior Support Representative\u001b[00m\n",
      "\u001b[95m## Final Answer:\u001b[00m \u001b[92m\n",
      "In order to set up gemini 2.0 flash free LLM API within CrewAI, you can follow these steps:\n",
      "\n",
      "1. Build a Crew: Start by creating a Crew within the CrewAI framework. A Crew organizes a team of AI agents with specialized roles to collaborate on complex tasks.\n",
      "\n",
      "2. Define AI Agents: Within the Crew, define specialized AI agents with roles such as researchers, analysts, or writers. These agents will work on specific tasks related to gemini 2.0 flash free LLM API setup.\n",
      "\n",
      "3. Equip Agents with Tools: Provide custom tools and APIs to the AI agents to facilitate interactions with external services and data sources required for implementing the gemini 2.0 flash free LLM API.\n",
      "\n",
      "4. Enable Collaboration: Promote intelligent collaboration among the AI agents within the Crew. They should share insights and coordinate tasks to achieve the goal of setting up the gemini 2.0 flash free LLM API.\n",
      "\n",
      "5. Utilize Task Management: Define sequential or parallel workflows within the CrewAI framework to efficiently handle task dependencies related to gemini 2.0 flash free LLM API setup.\n",
      "\n",
      "6. Use Flows for Structured Automation: Consider utilizing Flows within CrewAI for structured automation, offering granular control over workflow execution. Flows can handle conditional logic, loops, and dynamic state management effectively.\n",
      "\n",
      "7. Opt for Deterministic Execution: Ensure predictable outcomes by leveraging the deterministic execution capabilities of Flows in the CrewAI framework to set up gemini 2.0 flash free LLM API reliably and securely.\n",
      "\n",
      "By following these steps and utilizing the functionalities provided by CrewAI for Crews and Flows, you can effectively set up gemini 2.0 flash free LLM API within your AI automation environment. If you encounter any specific challenges during the setup process, feel free to reach out for further assistance.\u001b[00m\n",
      "\n",
      "\n"
     ]
    },
    {
     "data": {
      "text/html": [
       "<pre style=\"white-space:pre;overflow-x:auto;line-height:normal;font-family:Menlo,'DejaVu Sans Mono',consolas,'Courier New',monospace\"><span style=\"color: #008080; text-decoration-color: #008080; font-weight: bold\">🚀 Crew: crew</span>\n",
       "└── <span style=\"color: #808000; text-decoration-color: #808000; font-weight: bold\">📋 Task: ca8dc202-44bc-4ae3-a7fc-b48d6fcea5fc</span>\n",
       "    <span style=\"color: #c0c0c0; text-decoration-color: #c0c0c0\">   Status: </span><span style=\"color: #bfbf7f; text-decoration-color: #bfbf7f\">Executing Task...</span>\n",
       "    └── <span style=\"color: #008000; text-decoration-color: #008000; font-weight: bold\">🤖 Agent: </span><span style=\"color: #008000; text-decoration-color: #008000\">Senior Support Representative</span>\n",
       "        <span style=\"color: #c0c0c0; text-decoration-color: #c0c0c0\">    Status: </span><span style=\"color: #008000; text-decoration-color: #008000; font-weight: bold\">✅ Completed</span>\n",
       "        └── <span style=\"color: #008000; text-decoration-color: #008000; font-weight: bold\">🔧 </span><span style=\"color: #008000; text-decoration-color: #008000\">Used Read website content (1)</span>\n",
       "</pre>\n"
      ],
      "text/plain": [
       "\u001b[1;36m🚀 Crew: \u001b[0m\u001b[1;36mcrew\u001b[0m\n",
       "└── \u001b[1;33m📋 Task: ca8dc202-44bc-4ae3-a7fc-b48d6fcea5fc\u001b[0m\n",
       "    \u001b[37m   Status: \u001b[0m\u001b[2;33mExecuting Task...\u001b[0m\n",
       "    └── \u001b[1;32m🤖 Agent: \u001b[0m\u001b[32mSenior Support Representative\u001b[0m\n",
       "        \u001b[37m    Status: \u001b[0m\u001b[1;32m✅ Completed\u001b[0m\n",
       "        └── \u001b[1;32m🔧 \u001b[0m\u001b[32mUsed Read website content (1)\u001b[0m\n"
      ]
     },
     "metadata": {},
     "output_type": "display_data"
    },
    {
     "data": {
      "text/html": [
       "<pre style=\"white-space:pre;overflow-x:auto;line-height:normal;font-family:Menlo,'DejaVu Sans Mono',consolas,'Courier New',monospace\">\n",
       "</pre>\n"
      ],
      "text/plain": [
       "\n"
      ]
     },
     "metadata": {},
     "output_type": "display_data"
    },
    {
     "data": {
      "text/html": [
       "<pre style=\"white-space:pre;overflow-x:auto;line-height:normal;font-family:Menlo,'DejaVu Sans Mono',consolas,'Courier New',monospace\"><span style=\"color: #008080; text-decoration-color: #008080; font-weight: bold\">🚀 Crew: crew</span>\n",
       "└── <span style=\"color: #008000; text-decoration-color: #008000; font-weight: bold\">📋 Task: ca8dc202-44bc-4ae3-a7fc-b48d6fcea5fc</span>\n",
       "    <span style=\"color: #c0c0c0; text-decoration-color: #c0c0c0\">   Assigned to: </span><span style=\"color: #008000; text-decoration-color: #008000\">Senior Support Representative</span>\n",
       "    <span style=\"color: #c0c0c0; text-decoration-color: #c0c0c0\">   Status: </span><span style=\"color: #008000; text-decoration-color: #008000; font-weight: bold\">✅ Completed</span>\n",
       "    └── <span style=\"color: #008000; text-decoration-color: #008000; font-weight: bold\">🤖 Agent: </span><span style=\"color: #008000; text-decoration-color: #008000\">Senior Support Representative</span>\n",
       "        <span style=\"color: #c0c0c0; text-decoration-color: #c0c0c0\">    Status: </span><span style=\"color: #008000; text-decoration-color: #008000; font-weight: bold\">✅ Completed</span>\n",
       "        └── <span style=\"color: #008000; text-decoration-color: #008000; font-weight: bold\">🔧 </span><span style=\"color: #008000; text-decoration-color: #008000\">Used Read website content (1)</span>\n",
       "</pre>\n"
      ],
      "text/plain": [
       "\u001b[1;36m🚀 Crew: \u001b[0m\u001b[1;36mcrew\u001b[0m\n",
       "└── \u001b[1;32m📋 Task: ca8dc202-44bc-4ae3-a7fc-b48d6fcea5fc\u001b[0m\n",
       "    \u001b[37m   Assigned to: \u001b[0m\u001b[32mSenior Support Representative\u001b[0m\n",
       "    \u001b[37m   Status: \u001b[0m\u001b[1;32m✅ Completed\u001b[0m\n",
       "    └── \u001b[1;32m🤖 Agent: \u001b[0m\u001b[32mSenior Support Representative\u001b[0m\n",
       "        \u001b[37m    Status: \u001b[0m\u001b[1;32m✅ Completed\u001b[0m\n",
       "        └── \u001b[1;32m🔧 \u001b[0m\u001b[32mUsed Read website content (1)\u001b[0m\n"
      ]
     },
     "metadata": {},
     "output_type": "display_data"
    },
    {
     "data": {
      "text/html": [
       "<pre style=\"white-space:pre;overflow-x:auto;line-height:normal;font-family:Menlo,'DejaVu Sans Mono',consolas,'Courier New',monospace\"><span style=\"color: #008000; text-decoration-color: #008000\">╭──────────────────────────────────────────────── Task Completion ────────────────────────────────────────────────╮</span>\n",
       "<span style=\"color: #008000; text-decoration-color: #008000\">│</span>                                                                                                                 <span style=\"color: #008000; text-decoration-color: #008000\">│</span>\n",
       "<span style=\"color: #008000; text-decoration-color: #008000\">│</span>  <span style=\"color: #008000; text-decoration-color: #008000; font-weight: bold\">Task Completed</span>                                                                                                 <span style=\"color: #008000; text-decoration-color: #008000\">│</span>\n",
       "<span style=\"color: #008000; text-decoration-color: #008000\">│</span>  <span style=\"color: #c0c0c0; text-decoration-color: #c0c0c0\">Name: </span><span style=\"color: #008000; text-decoration-color: #008000\">ca8dc202-44bc-4ae3-a7fc-b48d6fcea5fc</span>                                                                     <span style=\"color: #008000; text-decoration-color: #008000\">│</span>\n",
       "<span style=\"color: #008000; text-decoration-color: #008000\">│</span>  <span style=\"color: #c0c0c0; text-decoration-color: #c0c0c0\">Agent: </span><span style=\"color: #008000; text-decoration-color: #008000\">Senior Support Representative</span>                                                                           <span style=\"color: #008000; text-decoration-color: #008000\">│</span>\n",
       "<span style=\"color: #008000; text-decoration-color: #008000\">│</span>                                                                                                                 <span style=\"color: #008000; text-decoration-color: #008000\">│</span>\n",
       "<span style=\"color: #008000; text-decoration-color: #008000\">│</span>                                                                                                                 <span style=\"color: #008000; text-decoration-color: #008000\">│</span>\n",
       "<span style=\"color: #008000; text-decoration-color: #008000\">╰─────────────────────────────────────────────────────────────────────────────────────────────────────────────────╯</span>\n",
       "</pre>\n"
      ],
      "text/plain": [
       "\u001b[32m╭─\u001b[0m\u001b[32m───────────────────────────────────────────────\u001b[0m\u001b[32m Task Completion \u001b[0m\u001b[32m───────────────────────────────────────────────\u001b[0m\u001b[32m─╮\u001b[0m\n",
       "\u001b[32m│\u001b[0m                                                                                                                 \u001b[32m│\u001b[0m\n",
       "\u001b[32m│\u001b[0m  \u001b[1;32mTask Completed\u001b[0m                                                                                                 \u001b[32m│\u001b[0m\n",
       "\u001b[32m│\u001b[0m  \u001b[37mName: \u001b[0m\u001b[32mca8dc202-44bc-4ae3-a7fc-b48d6fcea5fc\u001b[0m                                                                     \u001b[32m│\u001b[0m\n",
       "\u001b[32m│\u001b[0m  \u001b[37mAgent: \u001b[0m\u001b[32mSenior Support Representative\u001b[0m                                                                           \u001b[32m│\u001b[0m\n",
       "\u001b[32m│\u001b[0m                                                                                                                 \u001b[32m│\u001b[0m\n",
       "\u001b[32m│\u001b[0m                                                                                                                 \u001b[32m│\u001b[0m\n",
       "\u001b[32m╰─────────────────────────────────────────────────────────────────────────────────────────────────────────────────╯\u001b[0m\n"
      ]
     },
     "metadata": {},
     "output_type": "display_data"
    },
    {
     "data": {
      "text/html": [
       "<pre style=\"white-space:pre;overflow-x:auto;line-height:normal;font-family:Menlo,'DejaVu Sans Mono',consolas,'Courier New',monospace\">\n",
       "</pre>\n"
      ],
      "text/plain": [
       "\n"
      ]
     },
     "metadata": {},
     "output_type": "display_data"
    },
    {
     "data": {
      "text/html": [
       "<pre style=\"white-space:pre;overflow-x:auto;line-height:normal;font-family:Menlo,'DejaVu Sans Mono',consolas,'Courier New',monospace\"><span style=\"color: #008080; text-decoration-color: #008080; font-weight: bold\">🚀 Crew: crew</span>\n",
       "├── <span style=\"color: #008000; text-decoration-color: #008000; font-weight: bold\">📋 Task: ca8dc202-44bc-4ae3-a7fc-b48d6fcea5fc</span>\n",
       "│   <span style=\"color: #c0c0c0; text-decoration-color: #c0c0c0\">   Assigned to: </span><span style=\"color: #008000; text-decoration-color: #008000\">Senior Support Representative</span>\n",
       "│   <span style=\"color: #c0c0c0; text-decoration-color: #c0c0c0\">   Status: </span><span style=\"color: #008000; text-decoration-color: #008000; font-weight: bold\">✅ Completed</span>\n",
       "│   └── <span style=\"color: #008000; text-decoration-color: #008000; font-weight: bold\">🤖 Agent: </span><span style=\"color: #008000; text-decoration-color: #008000\">Senior Support Representative</span>\n",
       "│       <span style=\"color: #c0c0c0; text-decoration-color: #c0c0c0\">    Status: </span><span style=\"color: #008000; text-decoration-color: #008000; font-weight: bold\">✅ Completed</span>\n",
       "│       └── <span style=\"color: #008000; text-decoration-color: #008000; font-weight: bold\">🔧 </span><span style=\"color: #008000; text-decoration-color: #008000\">Used Read website content (1)</span>\n",
       "└── <span style=\"color: #808000; text-decoration-color: #808000; font-weight: bold\">📋 Task: 6846ad88-fbfd-49cd-80a0-60c179c0c598</span>\n",
       "    <span style=\"color: #c0c0c0; text-decoration-color: #c0c0c0\">   Status: </span><span style=\"color: #bfbf7f; text-decoration-color: #bfbf7f\">Executing Task...</span>\n",
       "</pre>\n"
      ],
      "text/plain": [
       "\u001b[1;36m🚀 Crew: \u001b[0m\u001b[1;36mcrew\u001b[0m\n",
       "├── \u001b[1;32m📋 Task: ca8dc202-44bc-4ae3-a7fc-b48d6fcea5fc\u001b[0m\n",
       "│   \u001b[37m   Assigned to: \u001b[0m\u001b[32mSenior Support Representative\u001b[0m\n",
       "│   \u001b[37m   Status: \u001b[0m\u001b[1;32m✅ Completed\u001b[0m\n",
       "│   └── \u001b[1;32m🤖 Agent: \u001b[0m\u001b[32mSenior Support Representative\u001b[0m\n",
       "│       \u001b[37m    Status: \u001b[0m\u001b[1;32m✅ Completed\u001b[0m\n",
       "│       └── \u001b[1;32m🔧 \u001b[0m\u001b[32mUsed Read website content (1)\u001b[0m\n",
       "└── \u001b[1;33m📋 Task: 6846ad88-fbfd-49cd-80a0-60c179c0c598\u001b[0m\n",
       "    \u001b[37m   Status: \u001b[0m\u001b[2;33mExecuting Task...\u001b[0m\n"
      ]
     },
     "metadata": {},
     "output_type": "display_data"
    },
    {
     "data": {
      "text/html": [
       "<pre style=\"white-space:pre;overflow-x:auto;line-height:normal;font-family:Menlo,'DejaVu Sans Mono',consolas,'Courier New',monospace\">\n",
       "</pre>\n"
      ],
      "text/plain": [
       "\n"
      ]
     },
     "metadata": {},
     "output_type": "display_data"
    },
    {
     "data": {
      "text/html": [
       "<pre style=\"white-space:pre;overflow-x:auto;line-height:normal;font-family:Menlo,'DejaVu Sans Mono',consolas,'Courier New',monospace\"><span style=\"color: #008080; text-decoration-color: #008080; font-weight: bold\">🚀 Crew: crew</span>\n",
       "├── <span style=\"color: #008000; text-decoration-color: #008000; font-weight: bold\">📋 Task: ca8dc202-44bc-4ae3-a7fc-b48d6fcea5fc</span>\n",
       "│   <span style=\"color: #c0c0c0; text-decoration-color: #c0c0c0\">   Assigned to: </span><span style=\"color: #008000; text-decoration-color: #008000\">Senior Support Representative</span>\n",
       "│   <span style=\"color: #c0c0c0; text-decoration-color: #c0c0c0\">   Status: </span><span style=\"color: #008000; text-decoration-color: #008000; font-weight: bold\">✅ Completed</span>\n",
       "│   └── <span style=\"color: #008000; text-decoration-color: #008000; font-weight: bold\">🤖 Agent: </span><span style=\"color: #008000; text-decoration-color: #008000\">Senior Support Representative</span>\n",
       "│       <span style=\"color: #c0c0c0; text-decoration-color: #c0c0c0\">    Status: </span><span style=\"color: #008000; text-decoration-color: #008000; font-weight: bold\">✅ Completed</span>\n",
       "│       └── <span style=\"color: #008000; text-decoration-color: #008000; font-weight: bold\">🔧 </span><span style=\"color: #008000; text-decoration-color: #008000\">Used Read website content (1)</span>\n",
       "└── <span style=\"color: #808000; text-decoration-color: #808000; font-weight: bold\">📋 Task: 6846ad88-fbfd-49cd-80a0-60c179c0c598</span>\n",
       "    <span style=\"color: #c0c0c0; text-decoration-color: #c0c0c0\">   Status: </span><span style=\"color: #bfbf7f; text-decoration-color: #bfbf7f\">Executing Task...</span>\n",
       "    └── <span style=\"color: #008000; text-decoration-color: #008000; font-weight: bold\">🤖 Agent: </span><span style=\"color: #008000; text-decoration-color: #008000\">Support Quality Assurance Specialist</span>\n",
       "        <span style=\"color: #c0c0c0; text-decoration-color: #c0c0c0\">    Status: </span><span style=\"color: #008000; text-decoration-color: #008000; font-weight: bold\">In Progress</span>\n",
       "</pre>\n"
      ],
      "text/plain": [
       "\u001b[1;36m🚀 Crew: \u001b[0m\u001b[1;36mcrew\u001b[0m\n",
       "├── \u001b[1;32m📋 Task: ca8dc202-44bc-4ae3-a7fc-b48d6fcea5fc\u001b[0m\n",
       "│   \u001b[37m   Assigned to: \u001b[0m\u001b[32mSenior Support Representative\u001b[0m\n",
       "│   \u001b[37m   Status: \u001b[0m\u001b[1;32m✅ Completed\u001b[0m\n",
       "│   └── \u001b[1;32m🤖 Agent: \u001b[0m\u001b[32mSenior Support Representative\u001b[0m\n",
       "│       \u001b[37m    Status: \u001b[0m\u001b[1;32m✅ Completed\u001b[0m\n",
       "│       └── \u001b[1;32m🔧 \u001b[0m\u001b[32mUsed Read website content (1)\u001b[0m\n",
       "└── \u001b[1;33m📋 Task: 6846ad88-fbfd-49cd-80a0-60c179c0c598\u001b[0m\n",
       "    \u001b[37m   Status: \u001b[0m\u001b[2;33mExecuting Task...\u001b[0m\n",
       "    └── \u001b[1;32m🤖 Agent: \u001b[0m\u001b[32mSupport Quality Assurance Specialist\u001b[0m\n",
       "        \u001b[37m    Status: \u001b[0m\u001b[1;32mIn Progress\u001b[0m\n"
      ]
     },
     "metadata": {},
     "output_type": "display_data"
    },
    {
     "data": {
      "text/html": [
       "<pre style=\"white-space:pre;overflow-x:auto;line-height:normal;font-family:Menlo,'DejaVu Sans Mono',consolas,'Courier New',monospace\">\n",
       "</pre>\n"
      ],
      "text/plain": [
       "\n"
      ]
     },
     "metadata": {},
     "output_type": "display_data"
    },
    {
     "name": "stdout",
     "output_type": "stream",
     "text": [
      "\u001b[1m\u001b[95m# Agent:\u001b[00m \u001b[1m\u001b[92mSupport Quality Assurance Specialist\u001b[00m\n",
      "\u001b[95m## Task:\u001b[00m \u001b[92mReview the response drafted by the Senior Support Representative for DeepLearningAI's inquiry. Ensure that the answer is comprehensive, accurate, and adheres to the high-quality standards expected for customer support.\n",
      "Verify that all parts of the customer's inquiry have been addressed thoroughly, with a helpful and friendly tone.\n",
      "Check for references and sources used to  find the information, ensuring the response is well-supported and leaves no questions unanswered.\u001b[00m\n"
     ]
    },
    {
     "data": {
      "text/html": [
       "<pre style=\"white-space:pre;overflow-x:auto;line-height:normal;font-family:Menlo,'DejaVu Sans Mono',consolas,'Courier New',monospace\"><span style=\"color: #008080; text-decoration-color: #008080; font-weight: bold\">🚀 Crew: crew</span>\n",
       "├── <span style=\"color: #008000; text-decoration-color: #008000; font-weight: bold\">📋 Task: ca8dc202-44bc-4ae3-a7fc-b48d6fcea5fc</span>\n",
       "│   <span style=\"color: #c0c0c0; text-decoration-color: #c0c0c0\">   Assigned to: </span><span style=\"color: #008000; text-decoration-color: #008000\">Senior Support Representative</span>\n",
       "│   <span style=\"color: #c0c0c0; text-decoration-color: #c0c0c0\">   Status: </span><span style=\"color: #008000; text-decoration-color: #008000; font-weight: bold\">✅ Completed</span>\n",
       "│   └── <span style=\"color: #008000; text-decoration-color: #008000; font-weight: bold\">🤖 Agent: </span><span style=\"color: #008000; text-decoration-color: #008000\">Senior Support Representative</span>\n",
       "│       <span style=\"color: #c0c0c0; text-decoration-color: #c0c0c0\">    Status: </span><span style=\"color: #008000; text-decoration-color: #008000; font-weight: bold\">✅ Completed</span>\n",
       "│       └── <span style=\"color: #008000; text-decoration-color: #008000; font-weight: bold\">🔧 </span><span style=\"color: #008000; text-decoration-color: #008000\">Used Read website content (1)</span>\n",
       "└── <span style=\"color: #808000; text-decoration-color: #808000; font-weight: bold\">📋 Task: 6846ad88-fbfd-49cd-80a0-60c179c0c598</span>\n",
       "    <span style=\"color: #c0c0c0; text-decoration-color: #c0c0c0\">   Status: </span><span style=\"color: #bfbf7f; text-decoration-color: #bfbf7f\">Executing Task...</span>\n",
       "    └── <span style=\"color: #008000; text-decoration-color: #008000; font-weight: bold\">🤖 Agent: </span><span style=\"color: #008000; text-decoration-color: #008000\">Support Quality Assurance Specialist</span>\n",
       "        <span style=\"color: #c0c0c0; text-decoration-color: #c0c0c0\">    Status: </span><span style=\"color: #008000; text-decoration-color: #008000; font-weight: bold\">In Progress</span>\n",
       "        └── <span style=\"color: #000080; text-decoration-color: #000080; font-weight: bold\">🧠 </span><span style=\"color: #000080; text-decoration-color: #000080\">Thinking...</span>\n",
       "</pre>\n"
      ],
      "text/plain": [
       "\u001b[1;36m🚀 Crew: \u001b[0m\u001b[1;36mcrew\u001b[0m\n",
       "├── \u001b[1;32m📋 Task: ca8dc202-44bc-4ae3-a7fc-b48d6fcea5fc\u001b[0m\n",
       "│   \u001b[37m   Assigned to: \u001b[0m\u001b[32mSenior Support Representative\u001b[0m\n",
       "│   \u001b[37m   Status: \u001b[0m\u001b[1;32m✅ Completed\u001b[0m\n",
       "│   └── \u001b[1;32m🤖 Agent: \u001b[0m\u001b[32mSenior Support Representative\u001b[0m\n",
       "│       \u001b[37m    Status: \u001b[0m\u001b[1;32m✅ Completed\u001b[0m\n",
       "│       └── \u001b[1;32m🔧 \u001b[0m\u001b[32mUsed Read website content (1)\u001b[0m\n",
       "└── \u001b[1;33m📋 Task: 6846ad88-fbfd-49cd-80a0-60c179c0c598\u001b[0m\n",
       "    \u001b[37m   Status: \u001b[0m\u001b[2;33mExecuting Task...\u001b[0m\n",
       "    └── \u001b[1;32m🤖 Agent: \u001b[0m\u001b[32mSupport Quality Assurance Specialist\u001b[0m\n",
       "        \u001b[37m    Status: \u001b[0m\u001b[1;32mIn Progress\u001b[0m\n",
       "        └── \u001b[1;34m🧠 \u001b[0m\u001b[34mThinking...\u001b[0m\n"
      ]
     },
     "metadata": {},
     "output_type": "display_data"
    },
    {
     "data": {
      "text/html": [
       "<pre style=\"white-space:pre;overflow-x:auto;line-height:normal;font-family:Menlo,'DejaVu Sans Mono',consolas,'Courier New',monospace\">\n",
       "</pre>\n"
      ],
      "text/plain": [
       "\n"
      ]
     },
     "metadata": {},
     "output_type": "display_data"
    },
    {
     "data": {
      "text/html": [
       "<pre style=\"white-space:pre;overflow-x:auto;line-height:normal;font-family:Menlo,'DejaVu Sans Mono',consolas,'Courier New',monospace\"><span style=\"color: #008080; text-decoration-color: #008080; font-weight: bold\">🚀 Crew: crew</span>\n",
       "├── <span style=\"color: #008000; text-decoration-color: #008000; font-weight: bold\">📋 Task: ca8dc202-44bc-4ae3-a7fc-b48d6fcea5fc</span>\n",
       "│   <span style=\"color: #c0c0c0; text-decoration-color: #c0c0c0\">   Assigned to: </span><span style=\"color: #008000; text-decoration-color: #008000\">Senior Support Representative</span>\n",
       "│   <span style=\"color: #c0c0c0; text-decoration-color: #c0c0c0\">   Status: </span><span style=\"color: #008000; text-decoration-color: #008000; font-weight: bold\">✅ Completed</span>\n",
       "│   └── <span style=\"color: #008000; text-decoration-color: #008000; font-weight: bold\">🤖 Agent: </span><span style=\"color: #008000; text-decoration-color: #008000\">Senior Support Representative</span>\n",
       "│       <span style=\"color: #c0c0c0; text-decoration-color: #c0c0c0\">    Status: </span><span style=\"color: #008000; text-decoration-color: #008000; font-weight: bold\">✅ Completed</span>\n",
       "│       └── <span style=\"color: #008000; text-decoration-color: #008000; font-weight: bold\">🔧 </span><span style=\"color: #008000; text-decoration-color: #008000\">Used Read website content (1)</span>\n",
       "└── <span style=\"color: #808000; text-decoration-color: #808000; font-weight: bold\">📋 Task: 6846ad88-fbfd-49cd-80a0-60c179c0c598</span>\n",
       "    <span style=\"color: #c0c0c0; text-decoration-color: #c0c0c0\">   Status: </span><span style=\"color: #bfbf7f; text-decoration-color: #bfbf7f\">Executing Task...</span>\n",
       "    └── <span style=\"color: #008000; text-decoration-color: #008000; font-weight: bold\">🤖 Agent: </span><span style=\"color: #008000; text-decoration-color: #008000\">Support Quality Assurance Specialist</span>\n",
       "        <span style=\"color: #c0c0c0; text-decoration-color: #c0c0c0\">    Status: </span><span style=\"color: #008000; text-decoration-color: #008000; font-weight: bold\">In Progress</span>\n",
       "</pre>\n"
      ],
      "text/plain": [
       "\u001b[1;36m🚀 Crew: \u001b[0m\u001b[1;36mcrew\u001b[0m\n",
       "├── \u001b[1;32m📋 Task: ca8dc202-44bc-4ae3-a7fc-b48d6fcea5fc\u001b[0m\n",
       "│   \u001b[37m   Assigned to: \u001b[0m\u001b[32mSenior Support Representative\u001b[0m\n",
       "│   \u001b[37m   Status: \u001b[0m\u001b[1;32m✅ Completed\u001b[0m\n",
       "│   └── \u001b[1;32m🤖 Agent: \u001b[0m\u001b[32mSenior Support Representative\u001b[0m\n",
       "│       \u001b[37m    Status: \u001b[0m\u001b[1;32m✅ Completed\u001b[0m\n",
       "│       └── \u001b[1;32m🔧 \u001b[0m\u001b[32mUsed Read website content (1)\u001b[0m\n",
       "└── \u001b[1;33m📋 Task: 6846ad88-fbfd-49cd-80a0-60c179c0c598\u001b[0m\n",
       "    \u001b[37m   Status: \u001b[0m\u001b[2;33mExecuting Task...\u001b[0m\n",
       "    └── \u001b[1;32m🤖 Agent: \u001b[0m\u001b[32mSupport Quality Assurance Specialist\u001b[0m\n",
       "        \u001b[37m    Status: \u001b[0m\u001b[1;32mIn Progress\u001b[0m\n"
      ]
     },
     "metadata": {},
     "output_type": "display_data"
    },
    {
     "data": {
      "text/html": [
       "<pre style=\"white-space:pre;overflow-x:auto;line-height:normal;font-family:Menlo,'DejaVu Sans Mono',consolas,'Courier New',monospace\">\n",
       "</pre>\n"
      ],
      "text/plain": [
       "\n"
      ]
     },
     "metadata": {},
     "output_type": "display_data"
    },
    {
     "name": "stdout",
     "output_type": "stream",
     "text": [
      "\n",
      "\n",
      "\u001b[1m\u001b[95m# Agent:\u001b[00m \u001b[1m\u001b[92mSupport Quality Assurance Specialist\u001b[00m\n",
      "\u001b[95m## Final Answer:\u001b[00m \u001b[92m\n",
      "Hello DeepLearningAI team,\n",
      "\n",
      "Thank you for reaching out with your inquiry on setting up the gemini 2.0 flash free LLM API within CrewAI. I'm excited to assist you in this process and ensure you have a clear understanding of the steps involved.\n",
      "\n",
      "To successfully integrate the gemini 2.0 flash free LLM API into your AI automation environment, you can follow these comprehensive steps:\n",
      "\n",
      "1. Build a Crew: To start, create a Crew within the CrewAI framework. A Crew acts as a structured team of AI agents with distinct roles to collectively work on complex tasks.\n",
      "\n",
      "2. Define AI Agents: Within your Crew, define specialized AI agents with roles such as researchers, analysts, or writers. These agents will be assigned specific tasks related to the setup of the gemini 2.0 flash free LLM API.\n",
      "\n",
      "3. Equip Agents with Tools: Ensure your AI agents have access to the necessary custom tools and APIs required to interact with external services and data sources essential for implementing the gemini 2.0 flash free LLM API effectively.\n",
      "\n",
      "4. Enable Collaboration: Encourage active collaboration among the AI agents in your Crew. It is essential for them to share insights and coordinate tasks to collectively achieve the goal of setting up the gemini 2.0 flash free LLM API.\n",
      "\n",
      "5. Utilize Task Management: Define sequential or parallel workflows within the CrewAI framework to manage task dependencies effectively specific to the gemini 2.0 flash free LLM API setup.\n",
      "\n",
      "6. Use Flows for Structured Automation: Consider employing Flows within CrewAI to automate processes effectively. Flows enable granular control over workflow execution with features like conditional logic, loops, and dynamic state management for streamlined operations.\n",
      "\n",
      "7. Opt for Deterministic Execution: Enhance reliability and security by utilizing the deterministic execution capabilities of Flows in the CrewAI framework. This ensures predictable outcomes during the setup of the gemini 2.0 flash free LLM API.\n",
      "\n",
      "By diligently following these steps and leveraging the functionalities provided by CrewAI for managing Crews and Flows, you can efficiently integrate the gemini 2.0 flash free LLM API into your AI automation environment. If you encounter any challenges or require further assistance during the setup process, please don't hesitate to reach out for personalized support.\n",
      "\n",
      "We are excited to see the successful implementation of the gemini 2.0 flash free LLM API within your AI automation environment. Should you have any more inquiries or need additional guidance, feel free to get in touch with us anytime. Best of luck with your integration process!\n",
      "\n",
      "Warm regards,\n",
      "[CrewAI Support Specialist]\u001b[00m\n",
      "\n",
      "\n"
     ]
    },
    {
     "data": {
      "text/html": [
       "<pre style=\"white-space:pre;overflow-x:auto;line-height:normal;font-family:Menlo,'DejaVu Sans Mono',consolas,'Courier New',monospace\"><span style=\"color: #008080; text-decoration-color: #008080; font-weight: bold\">🚀 Crew: crew</span>\n",
       "├── <span style=\"color: #008000; text-decoration-color: #008000; font-weight: bold\">📋 Task: ca8dc202-44bc-4ae3-a7fc-b48d6fcea5fc</span>\n",
       "│   <span style=\"color: #c0c0c0; text-decoration-color: #c0c0c0\">   Assigned to: </span><span style=\"color: #008000; text-decoration-color: #008000\">Senior Support Representative</span>\n",
       "│   <span style=\"color: #c0c0c0; text-decoration-color: #c0c0c0\">   Status: </span><span style=\"color: #008000; text-decoration-color: #008000; font-weight: bold\">✅ Completed</span>\n",
       "│   └── <span style=\"color: #008000; text-decoration-color: #008000; font-weight: bold\">🤖 Agent: </span><span style=\"color: #008000; text-decoration-color: #008000\">Senior Support Representative</span>\n",
       "│       <span style=\"color: #c0c0c0; text-decoration-color: #c0c0c0\">    Status: </span><span style=\"color: #008000; text-decoration-color: #008000; font-weight: bold\">✅ Completed</span>\n",
       "│       └── <span style=\"color: #008000; text-decoration-color: #008000; font-weight: bold\">🔧 </span><span style=\"color: #008000; text-decoration-color: #008000\">Used Read website content (1)</span>\n",
       "└── <span style=\"color: #808000; text-decoration-color: #808000; font-weight: bold\">📋 Task: 6846ad88-fbfd-49cd-80a0-60c179c0c598</span>\n",
       "    <span style=\"color: #c0c0c0; text-decoration-color: #c0c0c0\">   Status: </span><span style=\"color: #bfbf7f; text-decoration-color: #bfbf7f\">Executing Task...</span>\n",
       "    └── <span style=\"color: #008000; text-decoration-color: #008000; font-weight: bold\">🤖 Agent: </span><span style=\"color: #008000; text-decoration-color: #008000\">Support Quality Assurance Specialist</span>\n",
       "        <span style=\"color: #c0c0c0; text-decoration-color: #c0c0c0\">    Status: </span><span style=\"color: #008000; text-decoration-color: #008000; font-weight: bold\">✅ Completed</span>\n",
       "</pre>\n"
      ],
      "text/plain": [
       "\u001b[1;36m🚀 Crew: \u001b[0m\u001b[1;36mcrew\u001b[0m\n",
       "├── \u001b[1;32m📋 Task: ca8dc202-44bc-4ae3-a7fc-b48d6fcea5fc\u001b[0m\n",
       "│   \u001b[37m   Assigned to: \u001b[0m\u001b[32mSenior Support Representative\u001b[0m\n",
       "│   \u001b[37m   Status: \u001b[0m\u001b[1;32m✅ Completed\u001b[0m\n",
       "│   └── \u001b[1;32m🤖 Agent: \u001b[0m\u001b[32mSenior Support Representative\u001b[0m\n",
       "│       \u001b[37m    Status: \u001b[0m\u001b[1;32m✅ Completed\u001b[0m\n",
       "│       └── \u001b[1;32m🔧 \u001b[0m\u001b[32mUsed Read website content (1)\u001b[0m\n",
       "└── \u001b[1;33m📋 Task: 6846ad88-fbfd-49cd-80a0-60c179c0c598\u001b[0m\n",
       "    \u001b[37m   Status: \u001b[0m\u001b[2;33mExecuting Task...\u001b[0m\n",
       "    └── \u001b[1;32m🤖 Agent: \u001b[0m\u001b[32mSupport Quality Assurance Specialist\u001b[0m\n",
       "        \u001b[37m    Status: \u001b[0m\u001b[1;32m✅ Completed\u001b[0m\n"
      ]
     },
     "metadata": {},
     "output_type": "display_data"
    },
    {
     "data": {
      "text/html": [
       "<pre style=\"white-space:pre;overflow-x:auto;line-height:normal;font-family:Menlo,'DejaVu Sans Mono',consolas,'Courier New',monospace\">\n",
       "</pre>\n"
      ],
      "text/plain": [
       "\n"
      ]
     },
     "metadata": {},
     "output_type": "display_data"
    },
    {
     "data": {
      "text/html": [
       "<pre style=\"white-space:pre;overflow-x:auto;line-height:normal;font-family:Menlo,'DejaVu Sans Mono',consolas,'Courier New',monospace\"><span style=\"color: #008080; text-decoration-color: #008080; font-weight: bold\">🚀 Crew: crew</span>\n",
       "├── <span style=\"color: #008000; text-decoration-color: #008000; font-weight: bold\">📋 Task: ca8dc202-44bc-4ae3-a7fc-b48d6fcea5fc</span>\n",
       "│   <span style=\"color: #c0c0c0; text-decoration-color: #c0c0c0\">   Assigned to: </span><span style=\"color: #008000; text-decoration-color: #008000\">Senior Support Representative</span>\n",
       "│   <span style=\"color: #c0c0c0; text-decoration-color: #c0c0c0\">   Status: </span><span style=\"color: #008000; text-decoration-color: #008000; font-weight: bold\">✅ Completed</span>\n",
       "│   └── <span style=\"color: #008000; text-decoration-color: #008000; font-weight: bold\">🤖 Agent: </span><span style=\"color: #008000; text-decoration-color: #008000\">Senior Support Representative</span>\n",
       "│       <span style=\"color: #c0c0c0; text-decoration-color: #c0c0c0\">    Status: </span><span style=\"color: #008000; text-decoration-color: #008000; font-weight: bold\">✅ Completed</span>\n",
       "│       └── <span style=\"color: #008000; text-decoration-color: #008000; font-weight: bold\">🔧 </span><span style=\"color: #008000; text-decoration-color: #008000\">Used Read website content (1)</span>\n",
       "└── <span style=\"color: #008000; text-decoration-color: #008000; font-weight: bold\">📋 Task: 6846ad88-fbfd-49cd-80a0-60c179c0c598</span>\n",
       "    <span style=\"color: #c0c0c0; text-decoration-color: #c0c0c0\">   Assigned to: </span><span style=\"color: #008000; text-decoration-color: #008000\">Support Quality Assurance Specialist</span>\n",
       "    <span style=\"color: #c0c0c0; text-decoration-color: #c0c0c0\">   Status: </span><span style=\"color: #008000; text-decoration-color: #008000; font-weight: bold\">✅ Completed</span>\n",
       "    └── <span style=\"color: #008000; text-decoration-color: #008000; font-weight: bold\">🤖 Agent: </span><span style=\"color: #008000; text-decoration-color: #008000\">Support Quality Assurance Specialist</span>\n",
       "        <span style=\"color: #c0c0c0; text-decoration-color: #c0c0c0\">    Status: </span><span style=\"color: #008000; text-decoration-color: #008000; font-weight: bold\">✅ Completed</span>\n",
       "</pre>\n"
      ],
      "text/plain": [
       "\u001b[1;36m🚀 Crew: \u001b[0m\u001b[1;36mcrew\u001b[0m\n",
       "├── \u001b[1;32m📋 Task: ca8dc202-44bc-4ae3-a7fc-b48d6fcea5fc\u001b[0m\n",
       "│   \u001b[37m   Assigned to: \u001b[0m\u001b[32mSenior Support Representative\u001b[0m\n",
       "│   \u001b[37m   Status: \u001b[0m\u001b[1;32m✅ Completed\u001b[0m\n",
       "│   └── \u001b[1;32m🤖 Agent: \u001b[0m\u001b[32mSenior Support Representative\u001b[0m\n",
       "│       \u001b[37m    Status: \u001b[0m\u001b[1;32m✅ Completed\u001b[0m\n",
       "│       └── \u001b[1;32m🔧 \u001b[0m\u001b[32mUsed Read website content (1)\u001b[0m\n",
       "└── \u001b[1;32m📋 Task: 6846ad88-fbfd-49cd-80a0-60c179c0c598\u001b[0m\n",
       "    \u001b[37m   Assigned to: \u001b[0m\u001b[32mSupport Quality Assurance Specialist\u001b[0m\n",
       "    \u001b[37m   Status: \u001b[0m\u001b[1;32m✅ Completed\u001b[0m\n",
       "    └── \u001b[1;32m🤖 Agent: \u001b[0m\u001b[32mSupport Quality Assurance Specialist\u001b[0m\n",
       "        \u001b[37m    Status: \u001b[0m\u001b[1;32m✅ Completed\u001b[0m\n"
      ]
     },
     "metadata": {},
     "output_type": "display_data"
    },
    {
     "data": {
      "text/html": [
       "<pre style=\"white-space:pre;overflow-x:auto;line-height:normal;font-family:Menlo,'DejaVu Sans Mono',consolas,'Courier New',monospace\"><span style=\"color: #008000; text-decoration-color: #008000\">╭──────────────────────────────────────────────── Task Completion ────────────────────────────────────────────────╮</span>\n",
       "<span style=\"color: #008000; text-decoration-color: #008000\">│</span>                                                                                                                 <span style=\"color: #008000; text-decoration-color: #008000\">│</span>\n",
       "<span style=\"color: #008000; text-decoration-color: #008000\">│</span>  <span style=\"color: #008000; text-decoration-color: #008000; font-weight: bold\">Task Completed</span>                                                                                                 <span style=\"color: #008000; text-decoration-color: #008000\">│</span>\n",
       "<span style=\"color: #008000; text-decoration-color: #008000\">│</span>  <span style=\"color: #c0c0c0; text-decoration-color: #c0c0c0\">Name: </span><span style=\"color: #008000; text-decoration-color: #008000\">6846ad88-fbfd-49cd-80a0-60c179c0c598</span>                                                                     <span style=\"color: #008000; text-decoration-color: #008000\">│</span>\n",
       "<span style=\"color: #008000; text-decoration-color: #008000\">│</span>  <span style=\"color: #c0c0c0; text-decoration-color: #c0c0c0\">Agent: </span><span style=\"color: #008000; text-decoration-color: #008000\">Support Quality Assurance Specialist</span>                                                                    <span style=\"color: #008000; text-decoration-color: #008000\">│</span>\n",
       "<span style=\"color: #008000; text-decoration-color: #008000\">│</span>                                                                                                                 <span style=\"color: #008000; text-decoration-color: #008000\">│</span>\n",
       "<span style=\"color: #008000; text-decoration-color: #008000\">│</span>                                                                                                                 <span style=\"color: #008000; text-decoration-color: #008000\">│</span>\n",
       "<span style=\"color: #008000; text-decoration-color: #008000\">╰─────────────────────────────────────────────────────────────────────────────────────────────────────────────────╯</span>\n",
       "</pre>\n"
      ],
      "text/plain": [
       "\u001b[32m╭─\u001b[0m\u001b[32m───────────────────────────────────────────────\u001b[0m\u001b[32m Task Completion \u001b[0m\u001b[32m───────────────────────────────────────────────\u001b[0m\u001b[32m─╮\u001b[0m\n",
       "\u001b[32m│\u001b[0m                                                                                                                 \u001b[32m│\u001b[0m\n",
       "\u001b[32m│\u001b[0m  \u001b[1;32mTask Completed\u001b[0m                                                                                                 \u001b[32m│\u001b[0m\n",
       "\u001b[32m│\u001b[0m  \u001b[37mName: \u001b[0m\u001b[32m6846ad88-fbfd-49cd-80a0-60c179c0c598\u001b[0m                                                                     \u001b[32m│\u001b[0m\n",
       "\u001b[32m│\u001b[0m  \u001b[37mAgent: \u001b[0m\u001b[32mSupport Quality Assurance Specialist\u001b[0m                                                                    \u001b[32m│\u001b[0m\n",
       "\u001b[32m│\u001b[0m                                                                                                                 \u001b[32m│\u001b[0m\n",
       "\u001b[32m│\u001b[0m                                                                                                                 \u001b[32m│\u001b[0m\n",
       "\u001b[32m╰─────────────────────────────────────────────────────────────────────────────────────────────────────────────────╯\u001b[0m\n"
      ]
     },
     "metadata": {},
     "output_type": "display_data"
    },
    {
     "data": {
      "text/html": [
       "<pre style=\"white-space:pre;overflow-x:auto;line-height:normal;font-family:Menlo,'DejaVu Sans Mono',consolas,'Courier New',monospace\">\n",
       "</pre>\n"
      ],
      "text/plain": [
       "\n"
      ]
     },
     "metadata": {},
     "output_type": "display_data"
    },
    {
     "data": {
      "text/html": [
       "<pre style=\"white-space:pre;overflow-x:auto;line-height:normal;font-family:Menlo,'DejaVu Sans Mono',consolas,'Courier New',monospace\"><span style=\"color: #008000; text-decoration-color: #008000\">╭──────────────────────────────────────────────── Crew Completion ────────────────────────────────────────────────╮</span>\n",
       "<span style=\"color: #008000; text-decoration-color: #008000\">│</span>                                                                                                                 <span style=\"color: #008000; text-decoration-color: #008000\">│</span>\n",
       "<span style=\"color: #008000; text-decoration-color: #008000\">│</span>  <span style=\"color: #008000; text-decoration-color: #008000; font-weight: bold\">Crew Execution Completed</span>                                                                                       <span style=\"color: #008000; text-decoration-color: #008000\">│</span>\n",
       "<span style=\"color: #008000; text-decoration-color: #008000\">│</span>  <span style=\"color: #c0c0c0; text-decoration-color: #c0c0c0\">Name: </span><span style=\"color: #008000; text-decoration-color: #008000\">crew</span>                                                                                                     <span style=\"color: #008000; text-decoration-color: #008000\">│</span>\n",
       "<span style=\"color: #008000; text-decoration-color: #008000\">│</span>  <span style=\"color: #c0c0c0; text-decoration-color: #c0c0c0\">ID: </span><span style=\"color: #008000; text-decoration-color: #008000\">2cd545f0-ff0e-4552-982f-5b972c5c6af0</span>                                                                       <span style=\"color: #008000; text-decoration-color: #008000\">│</span>\n",
       "<span style=\"color: #008000; text-decoration-color: #008000\">│</span>                                                                                                                 <span style=\"color: #008000; text-decoration-color: #008000\">│</span>\n",
       "<span style=\"color: #008000; text-decoration-color: #008000\">│</span>                                                                                                                 <span style=\"color: #008000; text-decoration-color: #008000\">│</span>\n",
       "<span style=\"color: #008000; text-decoration-color: #008000\">╰─────────────────────────────────────────────────────────────────────────────────────────────────────────────────╯</span>\n",
       "</pre>\n"
      ],
      "text/plain": [
       "\u001b[32m╭─\u001b[0m\u001b[32m───────────────────────────────────────────────\u001b[0m\u001b[32m Crew Completion \u001b[0m\u001b[32m───────────────────────────────────────────────\u001b[0m\u001b[32m─╮\u001b[0m\n",
       "\u001b[32m│\u001b[0m                                                                                                                 \u001b[32m│\u001b[0m\n",
       "\u001b[32m│\u001b[0m  \u001b[1;32mCrew Execution Completed\u001b[0m                                                                                       \u001b[32m│\u001b[0m\n",
       "\u001b[32m│\u001b[0m  \u001b[37mName: \u001b[0m\u001b[32mcrew\u001b[0m                                                                                                     \u001b[32m│\u001b[0m\n",
       "\u001b[32m│\u001b[0m  \u001b[37mID: \u001b[0m\u001b[32m2cd545f0-ff0e-4552-982f-5b972c5c6af0\u001b[0m                                                                       \u001b[32m│\u001b[0m\n",
       "\u001b[32m│\u001b[0m                                                                                                                 \u001b[32m│\u001b[0m\n",
       "\u001b[32m│\u001b[0m                                                                                                                 \u001b[32m│\u001b[0m\n",
       "\u001b[32m╰─────────────────────────────────────────────────────────────────────────────────────────────────────────────────╯\u001b[0m\n"
      ]
     },
     "metadata": {},
     "output_type": "display_data"
    },
    {
     "data": {
      "text/html": [
       "<pre style=\"white-space:pre;overflow-x:auto;line-height:normal;font-family:Menlo,'DejaVu Sans Mono',consolas,'Courier New',monospace\">\n",
       "</pre>\n"
      ],
      "text/plain": [
       "\n"
      ]
     },
     "metadata": {},
     "output_type": "display_data"
    }
   ],
   "source": [
    "inputs = {\n",
    "    \"customer\": \"DeepLearningAI\",\n",
    "    \"person\": \"Sarthak\",\n",
    "    \"inquiry\": \"I need help with setting up a Crew \"\n",
    "               \"and kicking it off, specifically \"\n",
    "               \"how can i setup gemini 2.0 flash free LLM api? \"\n",
    "               \"Can you provide guidance?\"\n",
    "}\n",
    "result = crew.kickoff(inputs=inputs)\n"
   ]
  },
  {
   "cell_type": "code",
   "execution_count": null,
   "metadata": {},
   "outputs": [
    {
     "data": {
      "text/markdown": [
       "Hello DeepLearningAI team,\n",
       "\n",
       "Thank you for reaching out with your inquiry on setting up the gemini 2.0 flash free LLM API within CrewAI. I'm excited to assist you in this process and ensure you have a clear understanding of the steps involved.\n",
       "\n",
       "To successfully integrate the gemini 2.0 flash free LLM API into your AI automation environment, you can follow these comprehensive steps:\n",
       "\n",
       "1. Build a Crew: To start, create a Crew within the CrewAI framework. A Crew acts as a structured team of AI agents with distinct roles to collectively work on complex tasks.\n",
       "\n",
       "2. Define AI Agents: Within your Crew, define specialized AI agents with roles such as researchers, analysts, or writers. These agents will be assigned specific tasks related to the setup of the gemini 2.0 flash free LLM API.\n",
       "\n",
       "3. Equip Agents with Tools: Ensure your AI agents have access to the necessary custom tools and APIs required to interact with external services and data sources essential for implementing the gemini 2.0 flash free LLM API effectively.\n",
       "\n",
       "4. Enable Collaboration: Encourage active collaboration among the AI agents in your Crew. It is essential for them to share insights and coordinate tasks to collectively achieve the goal of setting up the gemini 2.0 flash free LLM API.\n",
       "\n",
       "5. Utilize Task Management: Define sequential or parallel workflows within the CrewAI framework to manage task dependencies effectively specific to the gemini 2.0 flash free LLM API setup.\n",
       "\n",
       "6. Use Flows for Structured Automation: Consider employing Flows within CrewAI to automate processes effectively. Flows enable granular control over workflow execution with features like conditional logic, loops, and dynamic state management for streamlined operations.\n",
       "\n",
       "7. Opt for Deterministic Execution: Enhance reliability and security by utilizing the deterministic execution capabilities of Flows in the CrewAI framework. This ensures predictable outcomes during the setup of the gemini 2.0 flash free LLM API.\n",
       "\n",
       "By diligently following these steps and leveraging the functionalities provided by CrewAI for managing Crews and Flows, you can efficiently integrate the gemini 2.0 flash free LLM API into your AI automation environment. If you encounter any challenges or require further assistance during the setup process, please don't hesitate to reach out for personalized support.\n",
       "\n",
       "We are excited to see the successful implementation of the gemini 2.0 flash free LLM API within your AI automation environment. Should you have any more inquiries or need additional guidance, feel free to get in touch with us anytime. Best of luck with your integration process!\n",
       "\n",
       "Warm regards,\n",
       "[CrewAI Support Specialist]"
      ],
      "text/plain": [
       "<IPython.core.display.Markdown object>"
      ]
     },
     "execution_count": 57,
     "metadata": {},
     "output_type": "execute_result"
    }
   ],
   "source": [
    "from IPython.display import Markdown\n",
    "Markdown(result.raw)\n"
   ]
  },
  {
   "cell_type": "code",
   "execution_count": null,
   "metadata": {},
   "outputs": [],
   "source": []
  },
  {
   "cell_type": "code",
   "execution_count": null,
   "metadata": {},
   "outputs": [],
   "source": []
  },
  {
   "cell_type": "code",
   "execution_count": null,
   "metadata": {},
   "outputs": [],
   "source": []
  },
  {
   "cell_type": "code",
   "execution_count": null,
   "metadata": {},
   "outputs": [],
   "source": []
  },
  {
   "cell_type": "code",
   "execution_count": null,
   "metadata": {},
   "outputs": [],
   "source": []
  },
  {
   "cell_type": "code",
   "execution_count": null,
   "metadata": {},
   "outputs": [],
   "source": []
  },
  {
   "cell_type": "code",
   "execution_count": null,
   "metadata": {},
   "outputs": [],
   "source": []
  },
  {
   "cell_type": "code",
   "execution_count": null,
   "metadata": {},
   "outputs": [],
   "source": []
  },
  {
   "cell_type": "code",
   "execution_count": null,
   "metadata": {},
   "outputs": [],
   "source": []
  },
  {
   "cell_type": "code",
   "execution_count": null,
   "metadata": {},
   "outputs": [],
   "source": []
  },
  {
   "cell_type": "code",
   "execution_count": null,
   "metadata": {},
   "outputs": [],
   "source": []
  }
 ],
 "metadata": {
  "kernelspec": {
   "display_name": "Python 3",
   "language": "python",
   "name": "python3"
  },
  "language_info": {
   "codemirror_mode": {
    "name": "ipython",
    "version": 3
   },
   "file_extension": ".py",
   "mimetype": "text/x-python",
   "name": "python",
   "nbconvert_exporter": "python",
   "pygments_lexer": "ipython3",
   "version": "3.11.11"
  }
 },
 "nbformat": 4,
 "nbformat_minor": 2
}
